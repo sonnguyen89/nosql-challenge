{
 "cells": [
  {
   "cell_type": "markdown",
   "id": "9a57c4c6",
   "metadata": {},
   "source": [
    "# Eat Safe, Love"
   ]
  },
  {
   "cell_type": "markdown",
   "id": "064ef857",
   "metadata": {},
   "source": [
    "## Part 1: Database and Jupyter Notebook Set Up"
   ]
  },
  {
   "cell_type": "markdown",
   "id": "664e3c1f",
   "metadata": {},
   "source": [
    "Import the data provided in the `establishments.json` file from your Terminal. Name the database `uk_food` and the collection `establishments`.\n",
    "\n",
    "Within this markdown cell, copy the line of text you used to import the data from your Terminal. This way, future analysts will be able to repeat your process.\n",
    "\n",
    "e.g.: Import the dataset with `YOUR IMPORT TEXT HERE`"
   ]
  },
  {
   "cell_type": "code",
   "id": "3ecdd008",
   "metadata": {
    "ExecuteTime": {
     "end_time": "2024-05-25T04:08:00.154592Z",
     "start_time": "2024-05-25T04:08:00.151213Z"
    }
   },
   "source": [
    "# Import dependencies\n",
    "from pymongo import MongoClient\n",
    "from pprint import pprint"
   ],
   "outputs": [],
   "execution_count": 7
  },
  {
   "cell_type": "code",
   "id": "59390c4a",
   "metadata": {
    "ExecuteTime": {
     "end_time": "2024-05-25T04:12:09.714039Z",
     "start_time": "2024-05-25T04:12:09.699694Z"
    }
   },
   "source": [
    "# Create an instance of MongoClient\n",
    "mongo = MongoClient(port=27017)"
   ],
   "outputs": [],
   "execution_count": 13
  },
  {
   "cell_type": "code",
   "id": "7f9ececa",
   "metadata": {
    "ExecuteTime": {
     "end_time": "2024-05-25T04:12:10.526579Z",
     "start_time": "2024-05-25T04:12:10.521199Z"
    }
   },
   "source": [
    "# confirm that our new database was created\n",
    "# 1.enter MongoDB console: use uk_food\n",
    "# 2.enter MongoDB console : createCollection(\"establishments\")\n",
    "# 3.import json to this database by enter this command in terminal:\n",
    "# mongoimport --type json -d uk_food -c establishments --jsonArray Resources/establishments.json\n",
    "pprint(mongo.list_database_names())"
   ],
   "outputs": [
    {
     "name": "stdout",
     "output_type": "stream",
     "text": [
      "['admin', 'config', 'local', 'uk_food']\n"
     ]
    }
   ],
   "execution_count": 14
  },
  {
   "cell_type": "code",
   "id": "71e373c1",
   "metadata": {
    "ExecuteTime": {
     "end_time": "2024-05-25T04:12:11.717927Z",
     "start_time": "2024-05-25T04:12:11.714756Z"
    }
   },
   "source": [
    "# assign the uk_food database to a variable name\n",
    "db = mongo['uk_food']"
   ],
   "outputs": [],
   "execution_count": 15
  },
  {
   "cell_type": "code",
   "id": "ef1b89ed",
   "metadata": {
    "ExecuteTime": {
     "end_time": "2024-05-25T04:12:12.688942Z",
     "start_time": "2024-05-25T04:12:12.682869Z"
    }
   },
   "source": [
    "# review the collections in our new database\n",
    "pprint(db.list_collection_names())"
   ],
   "outputs": [
    {
     "name": "stdout",
     "output_type": "stream",
     "text": [
      "['establishments']\n"
     ]
    }
   ],
   "execution_count": 16
  },
  {
   "cell_type": "code",
   "id": "18ab463c",
   "metadata": {
    "ExecuteTime": {
     "end_time": "2024-05-25T04:12:13.771598Z",
     "start_time": "2024-05-25T04:12:13.766014Z"
    }
   },
   "source": [
    "# review the collections in our new database\n",
    "collections = db.list_collection_names()\n",
    "\n",
    "# Print the collections\n",
    "pprint(\"Collections in 'uk_food' database:\")\n",
    "for collection in collections:\n",
    "    pprint(collection)"
   ],
   "outputs": [
    {
     "name": "stdout",
     "output_type": "stream",
     "text": [
      "\"Collections in 'uk_food' database:\"\n",
      "'establishments'\n"
     ]
    }
   ],
   "execution_count": 17
  },
  {
   "cell_type": "code",
   "id": "6a0d92df",
   "metadata": {
    "ExecuteTime": {
     "end_time": "2024-05-25T04:20:59.168513Z",
     "start_time": "2024-05-25T04:20:59.158947Z"
    }
   },
   "source": [
    "# review a document in the establishments collection\n",
    "establishments_collection = db['establishments']\n",
    "document = establishments_collection.find_one()\n",
    "\n",
    "# Pretty print the document\n",
    "print(\"Document in the 'establishments' collection:\")\n",
    "pprint(document)"
   ],
   "outputs": [
    {
     "name": "stdout",
     "output_type": "stream",
     "text": [
      "Document in the 'establishments' collection:\n",
      "{'AddressLine1': 'The Pines Garden',\n",
      " 'AddressLine2': 'Beach Road',\n",
      " 'AddressLine3': 'St Margarets Bay',\n",
      " 'AddressLine4': 'Kent',\n",
      " 'BusinessName': 'The Pines Calyx',\n",
      " 'BusinessType': 'Other catering premises',\n",
      " 'BusinessTypeID': 7841,\n",
      " 'ChangesByServerID': 0,\n",
      " 'Distance': 4587.362402580997,\n",
      " 'FHRSID': 254250,\n",
      " 'LocalAuthorityBusinessID': 'PI/000066174',\n",
      " 'LocalAuthorityCode': '182',\n",
      " 'LocalAuthorityEmailAddress': 'publicprotection@dover.gov.uk',\n",
      " 'LocalAuthorityName': 'Dover',\n",
      " 'LocalAuthorityWebSite': 'http://www.dover.gov.uk/',\n",
      " 'NewRatingPending': False,\n",
      " 'Phone': '',\n",
      " 'PostCode': 'CT15 6DZ',\n",
      " 'RatingDate': '2021-08-17T00:00:00',\n",
      " 'RatingKey': 'fhrs_5_en-gb',\n",
      " 'RatingValue': '5',\n",
      " 'RightToReply': '',\n",
      " 'SchemeType': 'FHRS',\n",
      " '_id': ObjectId('66516625a5bca31b3ca53cf8'),\n",
      " 'geocode': {'latitude': '51.148133', 'longitude': '1.383298'},\n",
      " 'links': [{'href': 'https://api.ratings.food.gov.uk/establishments/254250',\n",
      "            'rel': 'self'}],\n",
      " 'meta': {'dataSource': None,\n",
      "          'extractDate': '0001-01-01T00:00:00',\n",
      "          'itemCount': 0,\n",
      "          'pageNumber': 0,\n",
      "          'pageSize': 0,\n",
      "          'returncode': None,\n",
      "          'totalCount': 0,\n",
      "          'totalPages': 0},\n",
      " 'scores': {'ConfidenceInManagement': 0, 'Hygiene': 0, 'Structural': 0}}\n"
     ]
    }
   ],
   "execution_count": 18
  },
  {
   "cell_type": "code",
   "id": "11c9f11b",
   "metadata": {
    "ExecuteTime": {
     "end_time": "2024-05-25T04:36:51.700768Z",
     "start_time": "2024-05-25T04:36:51.697260Z"
    }
   },
   "source": [
    "# assign the collection to a variable\n",
    "establishments = db['establishments']"
   ],
   "outputs": [],
   "execution_count": 21
  },
  {
   "cell_type": "markdown",
   "id": "d5671434",
   "metadata": {},
   "source": [
    "## Part 2: Update the Database"
   ]
  },
  {
   "cell_type": "markdown",
   "id": "314bd884",
   "metadata": {},
   "source": [
    "1. An exciting new halal restaurant just opened in Greenwich, but hasn't been rated yet. The magazine has asked you to include it in your analysis. Add the following restaurant \"Penang Flavours\" to the database."
   ]
  },
  {
   "cell_type": "code",
   "id": "c2da7648",
   "metadata": {
    "ExecuteTime": {
     "end_time": "2024-05-25T04:36:54.837218Z",
     "start_time": "2024-05-25T04:36:54.832424Z"
    }
   },
   "source": [
    "# Create a dictionary for the new restaurant data\n",
    "new_restaurant_data = {\n",
    "    \"BusinessName\":\"Penang Flavours\",\n",
    "    \"BusinessType\":\"Restaurant/Cafe/Canteen\",\n",
    "    \"BusinessTypeID\":\"\",\n",
    "    \"AddressLine1\":\"Penang Flavours\",\n",
    "    \"AddressLine2\":\"146A Plumstead Rd\",\n",
    "    \"AddressLine3\":\"London\",\n",
    "    \"AddressLine4\":\"\",\n",
    "    \"PostCode\":\"SE18 7DY\",\n",
    "    \"Phone\":\"\",\n",
    "    \"LocalAuthorityCode\":\"511\",\n",
    "    \"LocalAuthorityName\":\"Greenwich\",\n",
    "    \"LocalAuthorityWebSite\":\"http://www.royalgreenwich.gov.uk\",\n",
    "    \"LocalAuthorityEmailAddress\":\"health@royalgreenwich.gov.uk\",\n",
    "    \"scores\":{\n",
    "        \"Hygiene\":\"\",\n",
    "        \"Structural\":\"\",\n",
    "        \"ConfidenceInManagement\":\"\"\n",
    "    },\n",
    "    \"SchemeType\":\"FHRS\",\n",
    "    \"geocode\":{\n",
    "        \"longitude\":\"0.08384000\",\n",
    "        \"latitude\":\"51.49014200\"\n",
    "    },\n",
    "    \"RightToReply\":\"\",\n",
    "    \"Distance\":4623.9723280747176,\n",
    "    \"NewRatingPending\":True\n",
    "}"
   ],
   "outputs": [],
   "execution_count": 22
  },
  {
   "cell_type": "code",
   "id": "a6e5cece",
   "metadata": {
    "ExecuteTime": {
     "end_time": "2024-05-25T04:37:11.469108Z",
     "start_time": "2024-05-25T04:37:11.460963Z"
    }
   },
   "source": [
    "# Insert the new restaurant into the collection\n",
    "result = establishments.insert_one(new_restaurant_data)\n"
   ],
   "outputs": [],
   "execution_count": 23
  },
  {
   "cell_type": "code",
   "id": "63bb10f9",
   "metadata": {
    "ExecuteTime": {
     "end_time": "2024-05-25T04:42:16.984908Z",
     "start_time": "2024-05-25T04:42:16.978062Z"
    }
   },
   "source": [
    "# Check that the new restaurant was inserted\n",
    "pprint(result)"
   ],
   "outputs": [
    {
     "name": "stdout",
     "output_type": "stream",
     "text": [
      "InsertOneResult(ObjectId('66516af722ddb521c0ecfe6c'), acknowledged=True)\n"
     ]
    }
   ],
   "execution_count": 25
  },
  {
   "cell_type": "markdown",
   "id": "0ef4395a",
   "metadata": {},
   "source": [
    "2. Find the BusinessTypeID for \"Restaurant/Cafe/Canteen\" and return only the `BusinessTypeID` and `BusinessType` fields."
   ]
  },
  {
   "cell_type": "code",
   "id": "93c63829",
   "metadata": {
    "ExecuteTime": {
     "end_time": "2024-05-25T04:53:18.481245Z",
     "start_time": "2024-05-25T04:53:18.475171Z"
    }
   },
   "source": [
    "# Find the BusinessTypeID for \"Restaurant/Cafe/Canteen\" and return only the BusinessTypeID and BusinessType fields\n",
    "business_type_result = establishments.find_one({\"BusinessType\": \"Restaurant/Cafe/Canteen\"}, {\"BusinessType\": 1,\"BusinessTypeID\": 1})\n",
    "\n",
    "# Print the results\n",
    "pprint(business_type_result)"
   ],
   "outputs": [
    {
     "name": "stdout",
     "output_type": "stream",
     "text": [
      "{'BusinessType': 'Restaurant/Cafe/Canteen',\n",
      " 'BusinessTypeID': 1,\n",
      " '_id': ObjectId('66516625a5bca31b3ca53cf9')}\n"
     ]
    }
   ],
   "execution_count": 33
  },
  {
   "cell_type": "markdown",
   "id": "4e570caf",
   "metadata": {},
   "source": [
    "3. Update the new restaurant with the `BusinessTypeID` you found."
   ]
  },
  {
   "cell_type": "code",
   "id": "7f599f3d",
   "metadata": {
    "ExecuteTime": {
     "end_time": "2024-05-25T04:58:34.952483Z",
     "start_time": "2024-05-25T04:58:34.860602Z"
    }
   },
   "source": [
    "# Update the new restaurant with the correct BusinessTypeID\n",
    "# Extract the BusinessTypeID from the result\n",
    "business_type_id = business_type_result[\"BusinessTypeID\"]\n",
    "\n",
    "# Define the dictionary with the update\n",
    "update_data = {\n",
    "    \"$set\": {\n",
    "        \"BusinessTypeID\": business_type_id\n",
    "    }\n",
    "}\n",
    "\n",
    "update_result = establishments.update_one({\"BusinessName\": \"Penang Flavours\"}, update_data)"
   ],
   "outputs": [],
   "execution_count": 34
  },
  {
   "cell_type": "code",
   "id": "a6ad16f7",
   "metadata": {
    "ExecuteTime": {
     "end_time": "2024-05-25T04:58:36.691085Z",
     "start_time": "2024-05-25T04:58:36.648760Z"
    }
   },
   "source": [
    "# Confirm that the new restaurant was updated\n",
    "result = establishments.find_one({\"BusinessName\": \"Penang Flavours\"})\n",
    "pprint(result)"
   ],
   "outputs": [
    {
     "name": "stdout",
     "output_type": "stream",
     "text": [
      "{'AddressLine1': 'Penang Flavours',\n",
      " 'AddressLine2': '146A Plumstead Rd',\n",
      " 'AddressLine3': 'London',\n",
      " 'AddressLine4': '',\n",
      " 'BusinessName': 'Penang Flavours',\n",
      " 'BusinessType': 'Restaurant/Cafe/Canteen',\n",
      " 'BusinessTypeID': 1,\n",
      " 'Distance': 4623.972328074718,\n",
      " 'LocalAuthorityCode': '511',\n",
      " 'LocalAuthorityEmailAddress': 'health@royalgreenwich.gov.uk',\n",
      " 'LocalAuthorityName': 'Greenwich',\n",
      " 'LocalAuthorityWebSite': 'http://www.royalgreenwich.gov.uk',\n",
      " 'NewRatingPending': True,\n",
      " 'Phone': '',\n",
      " 'PostCode': 'SE18 7DY',\n",
      " 'RightToReply': '',\n",
      " 'SchemeType': 'FHRS',\n",
      " '_id': ObjectId('66516af722ddb521c0ecfe6c'),\n",
      " 'geocode': {'latitude': '51.49014200', 'longitude': '0.08384000'},\n",
      " 'scores': {'ConfidenceInManagement': '', 'Hygiene': '', 'Structural': ''}}\n"
     ]
    }
   ],
   "execution_count": 35
  },
  {
   "cell_type": "markdown",
   "id": "67281254",
   "metadata": {},
   "source": [
    "4. The magazine is not interested in any establishments in Dover, so check how many documents contain the Dover Local Authority. Then, remove any establishments within the Dover Local Authority from the database, and check the number of documents to ensure they were deleted."
   ]
  },
  {
   "cell_type": "code",
   "id": "768474a6",
   "metadata": {
    "ExecuteTime": {
     "end_time": "2024-05-25T05:00:56.066649Z",
     "start_time": "2024-05-25T05:00:56.020234Z"
    }
   },
   "source": [
    "# Find how many documents have LocalAuthorityName as \"Dover\"\n",
    "count = establishments.count_documents({\"LocalAuthorityName\": \"Dover\"})\n",
    "pprint(\"Number of documents with LocalAuthorityName as 'Dover':\")\n",
    "pprint(count)"
   ],
   "outputs": [
    {
     "name": "stdout",
     "output_type": "stream",
     "text": [
      "\"Number of documents with LocalAuthorityName as 'Dover':\"\n",
      "994\n"
     ]
    }
   ],
   "execution_count": 38
  },
  {
   "cell_type": "code",
   "id": "a11d5f1b",
   "metadata": {
    "ExecuteTime": {
     "end_time": "2024-05-25T05:04:59.970090Z",
     "start_time": "2024-05-25T05:04:59.893066Z"
    }
   },
   "source": [
    "# Delete all documents where LocalAuthorityName is \"Dover\"\n",
    "delete_result = establishments.delete_many({\"LocalAuthorityName\": \"Dover\"})\n",
    "\n",
    "# Print the number of deleted documents\n",
    "print(\"Number of documents deleted:\", delete_result.deleted_count)"
   ],
   "outputs": [
    {
     "name": "stdout",
     "output_type": "stream",
     "text": [
      "Number of documents deleted: 994\n"
     ]
    }
   ],
   "execution_count": 39
  },
  {
   "cell_type": "code",
   "id": "2a51aba0",
   "metadata": {
    "ExecuteTime": {
     "end_time": "2024-05-25T05:05:03.490328Z",
     "start_time": "2024-05-25T05:05:03.437849Z"
    }
   },
   "source": [
    "# Check if any remaining documents include Dover\n",
    "count = establishments.count_documents({\"LocalAuthorityName\": \"Dover\"})\n",
    "pprint(\"Number of documents remain with LocalAuthorityName as 'Dover':\")\n",
    "pprint(count)"
   ],
   "outputs": [
    {
     "name": "stdout",
     "output_type": "stream",
     "text": [
      "\"Number of documents with LocalAuthorityName as 'Dover':\"\n",
      "0\n"
     ]
    }
   ],
   "execution_count": 40
  },
  {
   "cell_type": "code",
   "id": "8c356f7b",
   "metadata": {
    "ExecuteTime": {
     "end_time": "2024-05-25T05:05:59.158393Z",
     "start_time": "2024-05-25T05:05:59.150339Z"
    }
   },
   "source": [
    "# Check that other documents remain with 'find_one'\n",
    "remaining_document = establishments.find_one()\n",
    "\n",
    "# Print the remaining document\n",
    "print(\"One remaining document after deletion:\")\n",
    "pprint(remaining_document)"
   ],
   "outputs": [
    {
     "name": "stdout",
     "output_type": "stream",
     "text": [
      "One remaining document after deletion:\n",
      "{'AddressLine1': 'St Marys Church Of England Primary School',\n",
      " 'AddressLine2': 'Warren Road',\n",
      " 'AddressLine3': 'Folkestone',\n",
      " 'AddressLine4': 'Kent',\n",
      " 'BusinessName': 'St Marys COE (aided) Primary School',\n",
      " 'BusinessType': 'School/college/university',\n",
      " 'BusinessTypeID': 7845,\n",
      " 'ChangesByServerID': 0,\n",
      " 'Distance': 4591.871474174837,\n",
      " 'FHRSID': 289353,\n",
      " 'LocalAuthorityBusinessID': 'PI/000002468',\n",
      " 'LocalAuthorityCode': '188',\n",
      " 'LocalAuthorityEmailAddress': 'foodteam@folkestone-hythe.gov.uk',\n",
      " 'LocalAuthorityName': 'Folkestone and Hythe',\n",
      " 'LocalAuthorityWebSite': 'http://www.folkestone-hythe.gov.uk',\n",
      " 'NewRatingPending': False,\n",
      " 'Phone': '',\n",
      " 'PostCode': 'CT19 6QH',\n",
      " 'RatingDate': '2016-09-13T00:00:00',\n",
      " 'RatingKey': 'fhrs_5_en-gb',\n",
      " 'RatingValue': '5',\n",
      " 'RightToReply': '',\n",
      " 'SchemeType': 'FHRS',\n",
      " '_id': ObjectId('66516625a5bca31b3ca53fda'),\n",
      " 'geocode': {'latitude': '51.085797', 'longitude': '1.194762'},\n",
      " 'links': [{'href': 'https://api.ratings.food.gov.uk/establishments/289353',\n",
      "            'rel': 'self'}],\n",
      " 'meta': {'dataSource': None,\n",
      "          'extractDate': '0001-01-01T00:00:00',\n",
      "          'itemCount': 0,\n",
      "          'pageNumber': 0,\n",
      "          'pageSize': 0,\n",
      "          'returncode': None,\n",
      "          'totalCount': 0,\n",
      "          'totalPages': 0},\n",
      " 'scores': {'ConfidenceInManagement': 0, 'Hygiene': 0, 'Structural': 0}}\n"
     ]
    }
   ],
   "execution_count": 41
  },
  {
   "attachments": {},
   "cell_type": "markdown",
   "id": "e9f1662d",
   "metadata": {},
   "source": [
    "5. Some of the number values are stored as strings, when they should be stored as numbers."
   ]
  },
  {
   "attachments": {},
   "cell_type": "markdown",
   "id": "c46df2df",
   "metadata": {},
   "source": [
    "Use `update_many` to convert `latitude` and `longitude` to decimal numbers."
   ]
  },
  {
   "cell_type": "code",
   "id": "fd4112ce",
   "metadata": {
    "ExecuteTime": {
     "end_time": "2024-05-25T05:34:23.937465Z",
     "start_time": "2024-05-25T05:34:21.504973Z"
    }
   },
   "source": [
    "# Change the data type from String to Decimal for longitude and latitude\n",
    "result = establishments.update_many({}, [\n",
    "    {\"$set\": {\n",
    "        \"geocode.latitude\": {\"$toDouble\": \"$geocode.latitude\"}, \n",
    "        \"geocode.longitude\": {\"$toDouble\": \"$geocode.longitude\"}\n",
    "    }}\n",
    "])\n",
    "\n",
    "print(\"Number of documents updated:\", result.modified_count)"
   ],
   "outputs": [
    {
     "name": "stdout",
     "output_type": "stream",
     "text": [
      "Number of documents updated: 38786\n"
     ]
    }
   ],
   "execution_count": 42
  },
  {
   "attachments": {},
   "cell_type": "markdown",
   "id": "142e319c",
   "metadata": {},
   "source": [
    "Use `update_many` to convert `RatingValue` to integer numbers."
   ]
  },
  {
   "cell_type": "code",
   "id": "04430a5b",
   "metadata": {
    "ExecuteTime": {
     "end_time": "2024-05-25T05:43:48.085310Z",
     "start_time": "2024-05-25T05:43:47.400968Z"
    }
   },
   "source": [
    "# Set non 1-5 Rating Values to Null\n",
    "non_ratings = [\"AwaitingInspection\", \"Awaiting Inspection\", \"AwaitingPublication\", \"Pass\", \"Exempt\"]\n",
    "establishments.update_many({\"RatingValue\": {\"$in\": non_ratings}}, [ {'$set':{ \"RatingValue\" : None}} ])"
   ],
   "outputs": [
    {
     "data": {
      "text/plain": [
       "UpdateResult({'n': 4091, 'nModified': 4091, 'ok': 1.0, 'updatedExisting': True}, acknowledged=True)"
      ]
     },
     "execution_count": 43,
     "metadata": {},
     "output_type": "execute_result"
    }
   ],
   "execution_count": 43
  },
  {
   "cell_type": "code",
   "id": "92524ccc",
   "metadata": {
    "ExecuteTime": {
     "end_time": "2024-05-25T05:48:57.270508Z",
     "start_time": "2024-05-25T05:48:56.957300Z"
    }
   },
   "source": [
    "# Change the data type from String to Integer for RatingValue\n",
    "result = establishments.update_many({}, [\n",
    "    {\"$set\": {\"RatingValue\": {\"$toInt\": \"$RatingValue\"}}}\n",
    "])\n",
    "print(\"Number of documents updated:\", result.modified_count)\n"
   ],
   "outputs": [
    {
     "name": "stdout",
     "output_type": "stream",
     "text": [
      "Number of documents updated: 0\n",
      "Data type of RatingValue field: <class 'int'>\n"
     ]
    }
   ],
   "execution_count": 45
  },
  {
   "cell_type": "code",
   "id": "0deacaf9",
   "metadata": {
    "ExecuteTime": {
     "end_time": "2024-05-25T05:50:57.446584Z",
     "start_time": "2024-05-25T05:50:57.438261Z"
    }
   },
   "source": [
    "# Check that the coordinates and rating value are now numbers\n",
    "\n",
    "document = establishments.find_one()\n",
    "# Print the data type of RatingValue in the found document\n",
    "print(\"Data type of RatingValue field:\", type(document['RatingValue']))\n",
    "print(\"Data type of geocode[latitude] field:\", type(document['geocode']['latitude']))\n",
    "print(\"Data type of geocode[longitude] field:\", type(document['geocode']['longitude']))"
   ],
   "outputs": [
    {
     "name": "stdout",
     "output_type": "stream",
     "text": [
      "Data type of RatingValue field: <class 'int'>\n",
      "Data type of geocode[latitude] field: <class 'float'>\n",
      "Data type of geocode[longitude] field: <class 'float'>\n"
     ]
    }
   ],
   "execution_count": 48
  },
  {
   "metadata": {},
   "cell_type": "code",
   "outputs": [],
   "execution_count": null,
   "source": "",
   "id": "dc4325a468ac765f"
  }
 ],
 "metadata": {
  "kernelspec": {
   "display_name": "Python 3 (ipykernel)",
   "language": "python",
   "name": "python3"
  },
  "language_info": {
   "codemirror_mode": {
    "name": "ipython",
    "version": 3
   },
   "file_extension": ".py",
   "mimetype": "text/x-python",
   "name": "python",
   "nbconvert_exporter": "python",
   "pygments_lexer": "ipython3",
   "version": "3.10.4"
  }
 },
 "nbformat": 4,
 "nbformat_minor": 5
}
